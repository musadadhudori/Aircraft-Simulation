{
 "cells": [
  {
   "cell_type": "markdown",
   "metadata": {
    "jp-MarkdownHeadingCollapsed": true,
    "tags": []
   },
   "source": [
    "### Packages"
   ]
  },
  {
   "cell_type": "code",
   "execution_count": 1,
   "metadata": {
    "tags": []
   },
   "outputs": [],
   "source": [
    "import datetime as dt\n",
    "import pandas as pd\n",
    "import numpy as np\n",
    "import numpy.random as nr\n",
    "import itertools as it\n",
    "import operator as op\n",
    "import random as rd"
   ]
  },
  {
   "cell_type": "markdown",
   "metadata": {
    "tags": []
   },
   "source": [
    "### Input"
   ]
  },
  {
   "cell_type": "code",
   "execution_count": 2,
   "metadata": {},
   "outputs": [
    {
     "name": "stdin",
     "output_type": "stream",
     "text": [
      "Input number of airports 100\n"
     ]
    }
   ],
   "source": [
    "N = int(input('Input number of airports'))"
   ]
  },
  {
   "cell_type": "code",
   "execution_count": 3,
   "metadata": {
    "tags": []
   },
   "outputs": [],
   "source": [
    "PopulationSize = 2\n",
    "EliteSize = 1\n",
    "MutationRate = 0.0005 \n",
    "generation = 10000"
   ]
  },
  {
   "cell_type": "markdown",
   "metadata": {
    "jp-MarkdownHeadingCollapsed": true,
    "tags": []
   },
   "source": [
    "### Data"
   ]
  },
  {
   "cell_type": "code",
   "execution_count": 4,
   "metadata": {},
   "outputs": [],
   "source": [
    "toc = dt.datetime.now() #program start time\n",
    "\n",
    "nr.seed(20220606)\n",
    "rd.seed(20220606)\n",
    "\n",
    "#flight costs matrix\n",
    "C = 708 + (51124 - 708)*nr.rand(N**2).reshape(N,N)\n",
    "C -= np.diag(np.diag(C)) \n",
    "        \n",
    "interval = {}\n",
    "interval[\"Acheck\"] = nr.randint(56, 71)\n",
    "interval[\"Bcheck\"] = nr.randint(180, 241)\n",
    "interval[\"Ccheck\"] = nr.randint(540, 721)\n",
    "interval[\"Dcheck\"] = nr.randint(2160, 3601)\n",
    "        \n",
    "durations = {}\n",
    "durations[\"Acheck\"] = [1]*N\n",
    "durations[\"Bcheck\"] = nr.randint(1, 4, size = N)\n",
    "durations[\"Ccheck\"] = nr.randint(7, 15, size = N)\n",
    "durations[\"Dcheck\"] = nr.randint(21, 43, size = N)\n",
    "        \n",
    "costs = {}\n",
    "costs[\"Acheck\"] = (310 + (820 - 310)*nr.rand(N))\n",
    "costs[\"Bcheck\"] = (4960 + (7380 - 4960)*nr.rand(N))\n",
    "costs[\"Ccheck\"] = (186000 + (246000 - 186000)*nr.rand(N))\n",
    "costs[\"Dcheck\"] = (930000 + (2050000 - 930000)*nr.rand(N))\n",
    "\n",
    "MFPD = 4 #maximum flights per day\n",
    "home = nr.randint(N) #initial airport\n",
    "I = set(np.arange(N)) #airport set\n",
    "MFCPD = C.max() #maximum flight costs per day\n",
    "MFC = (C + np.diag([np.inf]*N)).min() #minimum flight costs\n",
    "MDP = (MFCPD + MFPD*MFC)/2 #median daily profit"
   ]
  },
  {
   "cell_type": "markdown",
   "metadata": {
    "jp-MarkdownHeadingCollapsed": true,
    "tags": []
   },
   "source": [
    "### Aircraft Simulation"
   ]
  },
  {
   "cell_type": "code",
   "execution_count": 5,
   "metadata": {
    "tags": []
   },
   "outputs": [],
   "source": [
    "def maintenance_check(day, maintenance, airport):\n",
    "    for check in maintenance[\"amount\"].keys():\n",
    "        if day >= (maintenance[\"amount\"][check]+1)*interval[check] :\n",
    "            \n",
    "            maintenance[\"amount\"][check] += 1\n",
    "            day += durations[check][airport]\n",
    "            \n",
    "            maintenance[\"cost\"][check] += costs[check][airport]\n",
    "            maintenance[\"loss\"][check] += durations[check][airport]*MDP\n",
    "            \n",
    "    return day, maintenance\n",
    "\n",
    "\n",
    "def total_cost(route):\n",
    "    day = 0 # aircraft age\n",
    "        \n",
    "    maintenance = {}\n",
    "    maintenance[\"loss\"]     = {\"Acheck\" : 0, \"Bcheck\" : 0, \"Ccheck\" : 0, \"Dcheck\" : 0}\n",
    "    maintenance[\"amount\"]   = {\"Acheck\" : 0, \"Bcheck\" : 0, \"Ccheck\" : 0, \"Dcheck\" : 0}\n",
    "    maintenance[\"cost\"]     = {\"Acheck\" : 0, \"Bcheck\" : 0, \"Ccheck\" : 0, \"Dcheck\" : 0}\n",
    "        \n",
    "    FC = 0 #flight cost\n",
    "    \n",
    "    FPD = 0 #flights per day\n",
    "    FCPD = 0 #flight costs per day\n",
    "        \n",
    "    for i in range(1,len(route)): \n",
    "        FCPD += C[route[i-1]][route[i]]\n",
    "        FPD += 1\n",
    "        \n",
    "        if (FPD > MFPD) or (FCPD > MFCPD):\n",
    "            FC += (FCPD - C[route[i-1]][route[i]])\n",
    "            day += 1\n",
    "            \n",
    "            FPD = 1\n",
    "            FCPD = C[route[i-1]][route[i]]\n",
    "            day, maintenance = maintenance_check(day, maintenance, route[i-1])\n",
    "            \n",
    "    FC += FCPD\n",
    "    if route[-1] == home:\n",
    "        day += 1\n",
    "        day, maintenance = maintenance_check(day, maintenance, route[-1])\n",
    "    \n",
    "    objective = FC + sum(list(maintenance[\"cost\"].values()))\n",
    "    objective += sum(list(maintenance[\"loss\"].values()))\n",
    "\n",
    "    return day, FC, maintenance, objective"
   ]
  },
  {
   "cell_type": "markdown",
   "metadata": {
    "jp-MarkdownHeadingCollapsed": true,
    "tags": []
   },
   "source": [
    "### Genetic Algorithm"
   ]
  },
  {
   "cell_type": "code",
   "execution_count": 6,
   "metadata": {},
   "outputs": [],
   "source": [
    "def ranking(population):\n",
    "    population_ranking = {}\n",
    "    for i in range(len(population)):\n",
    "        \n",
    "        route = population[i]\n",
    "        day, FC, maintenance, objective = total_cost(route)\n",
    "        population_ranking[i] = 1/objective\n",
    "        \n",
    "    return sorted(population_ranking.items(), key = op.itemgetter(1), reverse = True)\n",
    "    \n",
    "    \n",
    "def selection(population_ranking):\n",
    "    arr_selection = []\n",
    "    df = pd.DataFrame(np.array(population_ranking), columns=[\"indeks\",\"fitness\"])\n",
    "    df['cum_sum'] = df.fitness.cumsum()/df.fitness.sum()\n",
    " \n",
    "    for i in range(EliteSize):\n",
    "        arr_selection.append(population_ranking[i][0])\n",
    "    \n",
    "    for i in range(len(population_ranking) - EliteSize):\n",
    "        pick = rd.random()\n",
    "        for i in range(len(population_ranking)):\n",
    "            if pick <= df.iat[i,2]:\n",
    "                arr_selection.append(population_ranking[i][0])\n",
    "                break\n",
    "\n",
    "    selection_results = []\n",
    "    for i in range(len(arr_selection)):\n",
    "        selection_results.append(population[arr_selection[i]])\n",
    "    \n",
    "    return selection_results\n",
    "    \n",
    "    \n",
    "def crossover(parent1, parent2):\n",
    "    child = []\n",
    "    child1 = []\n",
    "    child2 = []\n",
    "    \n",
    "    gene1 = int(rd.random() * len(parent1))\n",
    "    gene2 = int(rd.random() * len(parent1))\n",
    "    \n",
    "    start = min(gene1, gene2)\n",
    "    end = max(gene1, gene2)\n",
    "\n",
    "    for i in range(start, end):\n",
    "        child1.append(parent1[i])\n",
    "        \n",
    "    child2 = [i for i in parent2 if i not in child1]\n",
    "\n",
    "    child = child1 + child2\n",
    "    return child\n",
    "    \n",
    "    \n",
    "    \n",
    "def mutation(individual, MutationRate):\n",
    "    for i in range(len(individual)):\n",
    "        if(rd.random() < MutationRate):\n",
    "            j = int(rd.random() * len(individual))\n",
    "            \n",
    "            city1 = individual[i]\n",
    "            city2 = individual[j]\n",
    "            \n",
    "            individual[i] = city2\n",
    "            individual[j] = city1\n",
    "            \n",
    "    return individual"
   ]
  },
  {
   "cell_type": "markdown",
   "metadata": {
    "jp-MarkdownHeadingCollapsed": true,
    "tags": []
   },
   "source": [
    "### Main Program"
   ]
  },
  {
   "cell_type": "code",
   "execution_count": 7,
   "metadata": {
    "tags": []
   },
   "outputs": [],
   "source": [
    "#population initiation\n",
    "population = []\n",
    "for i in range(PopulationSize):\n",
    "    \n",
    "    route = [home] + rd.sample(list(I-set([home])), N-1) + [home]\n",
    "    while route in population:\n",
    "        route = [home] + rd.sample(list(I-set([home])), N-1) + [home]\n",
    "        \n",
    "    population.append(route)  \n",
    "\n",
    "first_generation = int(1/ranking(population)[0][1])\n",
    "\n",
    "for i in range(generation):\n",
    "    population_ranking = ranking(population)\n",
    "    selection_results = selection(population_ranking)\n",
    "    \n",
    "    children = []\n",
    "    length = len(selection_results) - EliteSize\n",
    "    pool = rd.sample(selection_results, len(selection_results))\n",
    "\n",
    "    for i in range(EliteSize):\n",
    "        children.append(selection_results[i])\n",
    "    \n",
    "    for i in range(length):\n",
    "        child = [home]\n",
    "        child += crossover(pool[i][1:-1], pool[len(selection_results)-i-1][1:-1])\n",
    "        child += [home]\n",
    "        mutation_result = [home] + mutation(child[1:-1], MutationRate) + [home]\n",
    "        children.append(mutation_result)\n",
    "    \n",
    "    population = children\n",
    "\n",
    "\n",
    "champion = ranking(population)[0]\n",
    "\n",
    "indeks = champion[0]\n",
    "fitness = champion[1]\n",
    "\n",
    "route = population[indeks]\n",
    "day, FC, maintenance, objective = total_cost(route)\n",
    "\n",
    "final_generation = int(1/fitness)\n",
    "generation_rate = first_generation/final_generation*100"
   ]
  },
  {
   "cell_type": "code",
   "execution_count": 8,
   "metadata": {},
   "outputs": [],
   "source": [
    "def output():\n",
    "    print(\"objective first generation: $\" + str(first_generation))\n",
    "    print(\"objective generation akhir : $\" + str(final_generation))\n",
    "    print('persentase generation : '+str(int(generation_rate))+'%')\n",
    "\n",
    "    print()\n",
    "    print('Total cost of flights  $%d' \n",
    "        %(FC))\n",
    "    print('Total maintenance costs $%d' \n",
    "        %(sum(list(maintenance[\"cost\"].values()))))\n",
    "    print('Total maintenance loss $%d' \n",
    "        %(sum(list(maintenance[\"loss\"].values()))))\n",
    "\n",
    "    print('Total cost $%d' \n",
    "        %(FC + sum(list(maintenance[\"cost\"].values()))))\n",
    "    print()\n",
    "    print(\"\\033[1m\" +\"Details :\" +\"\\033[0m\")\n",
    "    print(f'flight duration {int(day)} day')\n",
    "    print()\n",
    "    print('Number of The A check maintenance = %d' \n",
    "        %(maintenance[\"amount\"]['Acheck']))\n",
    "    print('Number of The B check maintenance = %d' \n",
    "        %(maintenance[\"amount\"]['Bcheck']))\n",
    "    print('Number of The C check maintenance = %d' \n",
    "        %(maintenance[\"amount\"]['Ccheck']))\n",
    "    print('Number of The D check maintenance = %d' \n",
    "        %(maintenance[\"amount\"]['Dcheck']))\n",
    "    print()\n",
    "    print('Costs of The A check maintenance = $%d' \n",
    "        %(maintenance[\"cost\"]['Acheck']))\n",
    "    print('Costs of The B check maintenance = $%d' \n",
    "        %(maintenance[\"cost\"]['Bcheck']))\n",
    "    print('Costs of The C check maintenance = $%d' \n",
    "        %(maintenance[\"cost\"]['Ccheck']))\n",
    "    print('Costs of The D check maintenance = $%d' \n",
    "        %(maintenance[\"cost\"]['Dcheck']))\n",
    "    print()\n",
    "    print('Loss of The A check maintenance = $%d' \n",
    "        %(maintenance[\"loss\"]['Acheck']))\n",
    "    print('Loss of The B check maintenance = $%d' \n",
    "        %(maintenance[\"loss\"]['Bcheck']))\n",
    "    print('Loss of The C check maintenance = $%d' \n",
    "        %(maintenance[\"loss\"]['Ccheck']))\n",
    "    print('Loss of The D check maintenance = $%d' \n",
    "        %(maintenance[\"loss\"]['Dcheck']))\n",
    "    print()\n",
    "\n",
    "    print(\"route : \")\n",
    "    for airport in route[:-1]:\n",
    "        print(f'{airport} -> ', end ='')\n",
    "       \n",
    "    print(home)\n",
    "    print()\n",
    "    print(\"Execution time : \", dt.datetime.now()-toc)\n",
    "\n",
    "def detail():\n",
    "    print('Detail: ')\n",
    "    FC = 0\n",
    "    FC_per_day = 0\n",
    "    flight_per_day = 0 \n",
    "    day = 0\n",
    "    for i in range(1,len(route)):\n",
    "        FC_per_day += C[route[i-1]][route[i]]\n",
    "        flight_per_day += 1\n",
    "    \n",
    "        if (flight_per_day > MFPD) or (FC_per_day > MFCPD):\n",
    "            FC += (FC_per_day - C[route[i-1]][route[i]])\n",
    "            day += 1\n",
    "        \n",
    "            print('day: '+str(day)+', airport visited: '+str(route[i-flight_per_day :i])+', flight costs: '+str(FC_per_day - C[route[i-1]][route[i]]))\n",
    "            FC_per_day = C[route[i-1]][route[i]]\n",
    "            flight_per_day = 1\n",
    "        \n",
    "    FC += FC_per_day\n",
    "    day += 1\n",
    "        \n",
    "    print('day: '+str(day)+', airport visited: '+str(route[-flight_per_day :])+', flight costs: '+str(FC_per_day))\n",
    "    print()\n",
    "    print(\"Total cost of flights :\",int(FC))"
   ]
  },
  {
   "cell_type": "markdown",
   "metadata": {
    "tags": []
   },
   "source": [
    "### Output"
   ]
  },
  {
   "cell_type": "code",
   "execution_count": 9,
   "metadata": {
    "tags": []
   },
   "outputs": [
    {
     "name": "stdout",
     "output_type": "stream",
     "text": [
      "objective first generation: $2288915\n",
      "objective generation akhir : $558210\n",
      "persentase generation : 410%\n",
      "\n",
      "Total cost of flights  $558210\n",
      "Total maintenance costs $0\n",
      "Total maintenance loss $0\n",
      "Total cost $558210\n",
      "\n",
      "\u001b[1mDetails :\u001b[0m\n",
      "flight duration 25 day\n",
      "\n",
      "Number of The A check maintenance = 0\n",
      "Number of The B check maintenance = 0\n",
      "Number of The C check maintenance = 0\n",
      "Number of The D check maintenance = 0\n",
      "\n",
      "Costs of The A check maintenance = $0\n",
      "Costs of The B check maintenance = $0\n",
      "Costs of The C check maintenance = $0\n",
      "Costs of The D check maintenance = $0\n",
      "\n",
      "Loss of The A check maintenance = $0\n",
      "Loss of The B check maintenance = $0\n",
      "Loss of The C check maintenance = $0\n",
      "Loss of The D check maintenance = $0\n",
      "\n",
      "route : \n",
      "80 -> 88 -> 11 -> 64 -> 71 -> 9 -> 90 -> 24 -> 63 -> 4 -> 10 -> 40 -> 20 -> 54 -> 96 -> 33 -> 3 -> 46 -> 53 -> 50 -> 56 -> 75 -> 57 -> 81 -> 32 -> 68 -> 47 -> 36 -> 67 -> 18 -> 93 -> 86 -> 45 -> 1 -> 12 -> 94 -> 52 -> 99 -> 35 -> 58 -> 70 -> 21 -> 60 -> 82 -> 37 -> 29 -> 87 -> 14 -> 85 -> 43 -> 7 -> 17 -> 13 -> 83 -> 98 -> 73 -> 89 -> 59 -> 30 -> 27 -> 23 -> 22 -> 78 -> 8 -> 91 -> 66 -> 92 -> 72 -> 38 -> 16 -> 39 -> 97 -> 51 -> 48 -> 31 -> 77 -> 42 -> 41 -> 28 -> 65 -> 69 -> 95 -> 19 -> 0 -> 76 -> 44 -> 5 -> 79 -> 6 -> 55 -> 84 -> 74 -> 26 -> 34 -> 61 -> 15 -> 25 -> 2 -> 62 -> 49 -> 80\n",
      "\n",
      "Execution time :  0:00:12.582383\n"
     ]
    }
   ],
   "source": [
    "output()"
   ]
  },
  {
   "cell_type": "markdown",
   "metadata": {
    "tags": []
   },
   "source": [
    "### Detail"
   ]
  },
  {
   "cell_type": "code",
   "execution_count": 10,
   "metadata": {
    "tags": []
   },
   "outputs": [
    {
     "name": "stdout",
     "output_type": "stream",
     "text": [
      "Detail: \n",
      "day: 1, airport visited: [80, 88, 11, 64, 71], flight costs: 16145.193444592243\n",
      "day: 2, airport visited: [71, 9, 90, 24, 63], flight costs: 18820.25173343798\n",
      "day: 3, airport visited: [63, 4, 10, 40, 20], flight costs: 16269.633291713622\n",
      "day: 4, airport visited: [20, 54, 96, 33, 3], flight costs: 18538.41572988929\n",
      "day: 5, airport visited: [3, 46, 53, 50, 56], flight costs: 9786.737470695673\n",
      "day: 6, airport visited: [56, 75, 57, 81, 32], flight costs: 14145.815655495695\n",
      "day: 7, airport visited: [32, 68, 47, 36, 67], flight costs: 26141.234676516582\n",
      "day: 8, airport visited: [67, 18, 93, 86, 45], flight costs: 45741.58202853256\n",
      "day: 9, airport visited: [45, 1, 12, 94, 52], flight costs: 29338.521710874236\n",
      "day: 10, airport visited: [52, 99, 35, 58, 70], flight costs: 37016.13731355048\n",
      "day: 11, airport visited: [70, 21, 60, 82, 37], flight costs: 6911.449350192441\n",
      "day: 12, airport visited: [37, 29, 87, 14, 85], flight costs: 24523.30676903961\n",
      "day: 13, airport visited: [85, 43, 7, 17, 13], flight costs: 26494.497365793257\n",
      "day: 14, airport visited: [13, 83, 98, 73, 89], flight costs: 11041.314596438837\n",
      "day: 15, airport visited: [89, 59, 30, 27, 23], flight costs: 18271.362953613676\n",
      "day: 16, airport visited: [23, 22, 78, 8, 91], flight costs: 41735.43144888057\n",
      "day: 17, airport visited: [91, 66, 92, 72, 38], flight costs: 22114.490437845467\n",
      "day: 18, airport visited: [38, 16, 39, 97, 51], flight costs: 29495.011369819134\n",
      "day: 19, airport visited: [51, 48, 31, 77, 42], flight costs: 20025.094385660625\n",
      "day: 20, airport visited: [42, 41, 28, 65, 69], flight costs: 11533.713927560653\n",
      "day: 21, airport visited: [69, 95, 19, 0, 76], flight costs: 17911.840925950644\n",
      "day: 22, airport visited: [76, 44, 5, 79, 6], flight costs: 13283.87961823875\n",
      "day: 23, airport visited: [6, 55, 84, 74, 26], flight costs: 25274.106289128595\n",
      "day: 24, airport visited: [26, 34, 61, 15, 25], flight costs: 15187.92053165214\n",
      "day: 25, airport visited: [2, 62, 49, 80], flight costs: 42463.33761562017\n",
      "\n",
      "Total cost of flights : 558210\n"
     ]
    }
   ],
   "source": [
    "detail()"
   ]
  }
 ],
 "metadata": {
  "kernelspec": {
   "display_name": "Python 3 (ipykernel)",
   "language": "python",
   "name": "python3"
  },
  "language_info": {
   "codemirror_mode": {
    "name": "ipython",
    "version": 3
   },
   "file_extension": ".py",
   "mimetype": "text/x-python",
   "name": "python",
   "nbconvert_exporter": "python",
   "pygments_lexer": "ipython3",
   "version": "3.9.13"
  }
 },
 "nbformat": 4,
 "nbformat_minor": 4
}
