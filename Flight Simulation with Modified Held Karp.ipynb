{
 "cells": [
  {
   "cell_type": "markdown",
   "metadata": {
    "jp-MarkdownHeadingCollapsed": true,
    "tags": []
   },
   "source": [
    "### Packages"
   ]
  },
  {
   "cell_type": "code",
   "execution_count": 1,
   "metadata": {},
   "outputs": [],
   "source": [
    "import datetime as dt\n",
    "import pandas as pd\n",
    "import numpy as np\n",
    "import numpy.random as nr\n",
    "import itertools as it\n",
    "import operator as op\n",
    "import random as rd"
   ]
  },
  {
   "cell_type": "markdown",
   "metadata": {},
   "source": [
    "### Input"
   ]
  },
  {
   "cell_type": "code",
   "execution_count": 2,
   "metadata": {},
   "outputs": [
    {
     "name": "stdin",
     "output_type": "stream",
     "text": [
      "Input the number of airports 25\n",
      "Input the number of flights 5\n"
     ]
    }
   ],
   "source": [
    "N = int(input('Input the number of airports'))\n",
    "NOF = int(input('Input the number of flights'))"
   ]
  },
  {
   "cell_type": "markdown",
   "metadata": {
    "jp-MarkdownHeadingCollapsed": true,
    "tags": []
   },
   "source": [
    "### Data"
   ]
  },
  {
   "cell_type": "code",
   "execution_count": 3,
   "metadata": {
    "tags": []
   },
   "outputs": [],
   "source": [
    "toc = dt.datetime.now() #program start time\n",
    "\n",
    "nr.seed(20220606)\n",
    "rd.seed(20220606)\n",
    "\n",
    "#flight costs matrix\n",
    "C = 708 + (51124 - 708)*nr.rand(N**2).reshape(N,N)\n",
    "C -= np.diag(np.diag(C)) \n",
    "        \n",
    "interval = {}\n",
    "interval[\"Acheck\"] = nr.randint(56, 71)\n",
    "interval[\"Bcheck\"] = nr.randint(180, 241)\n",
    "interval[\"Ccheck\"] = nr.randint(540, 721)\n",
    "interval[\"Dcheck\"] = nr.randint(2160, 3601)\n",
    "        \n",
    "durations = {}\n",
    "durations[\"Acheck\"] = [1]*N\n",
    "durations[\"Bcheck\"] = nr.randint(1, 4, size = N)\n",
    "durations[\"Ccheck\"] = nr.randint(7, 15, size = N)\n",
    "durations[\"Dcheck\"] = nr.randint(21, 43, size = N)\n",
    "        \n",
    "costs = {}\n",
    "costs[\"Acheck\"] = (310 + (820 - 310)*nr.rand(N))\n",
    "costs[\"Bcheck\"] = (4960 + (7380 - 4960)*nr.rand(N))\n",
    "costs[\"Ccheck\"] = (186000 + (246000 - 186000)*nr.rand(N))\n",
    "costs[\"Dcheck\"] = (930000 + (2050000 - 930000)*nr.rand(N))\n",
    "\n",
    "MFPD = 4 #maximum flights per day\n",
    "home = nr.randint(N) #initial airport\n",
    "I = set(np.arange(N)) #airport set\n",
    "MFCPD = C.max() #maximum flight costs per day\n",
    "MFC = (C + np.diag([np.inf]*N)).min() #minimum flight costs\n",
    "MDP = (MFCPD + MFPD*MFC)/2 #median daily profit"
   ]
  },
  {
   "cell_type": "markdown",
   "metadata": {
    "jp-MarkdownHeadingCollapsed": true,
    "tags": []
   },
   "source": [
    "### Flight Simulation"
   ]
  },
  {
   "cell_type": "code",
   "execution_count": 4,
   "metadata": {
    "tags": []
   },
   "outputs": [],
   "source": [
    "def maintenance_check(day, maintenance, airport):\n",
    "    for check in maintenance[\"amount\"].keys():\n",
    "        if day >= (maintenance[\"amount\"][check]+1)*interval[check] :\n",
    "            \n",
    "            maintenance[\"amount\"][check] += 1\n",
    "            day += durations[check][airport]\n",
    "            \n",
    "            maintenance[\"cost\"][check] += costs[check][airport]\n",
    "            maintenance[\"loss\"][check] += durations[check][airport]*MDP\n",
    "            \n",
    "    return day, maintenance"
   ]
  },
  {
   "cell_type": "code",
   "execution_count": 5,
   "metadata": {
    "tags": []
   },
   "outputs": [],
   "source": [
    "def total_cost(route):\n",
    "    day = 0 # aircraft age\n",
    "        \n",
    "    maintenance = {}\n",
    "    maintenance[\"loss\"]     = {\"Acheck\" : 0, \"Bcheck\" : 0, \"Ccheck\" : 0, \"Dcheck\" : 0}\n",
    "    maintenance[\"amount\"]   = {\"Acheck\" : 0, \"Bcheck\" : 0, \"Ccheck\" : 0, \"Dcheck\" : 0}\n",
    "    maintenance[\"cost\"]     = {\"Acheck\" : 0, \"Bcheck\" : 0, \"Ccheck\" : 0, \"Dcheck\" : 0}\n",
    "        \n",
    "    FC = 0 #flight cost\n",
    "    \n",
    "    FPD = 0 #flights per day\n",
    "    FCPD = 0 #flight costs per day\n",
    "        \n",
    "    for i in range(1,len(route)): \n",
    "        FCPD += C[route[i-1]][route[i]]\n",
    "        FPD += 1\n",
    "        \n",
    "        if (FPD > MFPD) or (FCPD > MFCPD):\n",
    "            FC += (FCPD - C[route[i-1]][route[i]])\n",
    "            day += 1\n",
    "            \n",
    "            FPD = 1\n",
    "            FCPD = C[route[i-1]][route[i]]\n",
    "            day, maintenance = maintenance_check(day, maintenance, route[i-1])\n",
    "            \n",
    "    FC += FCPD\n",
    "    if route[-1] == home:\n",
    "        day += 1\n",
    "        day, maintenance = maintenance_check(day, maintenance, route[-1])\n",
    "    \n",
    "    objective = FC + sum(list(maintenance[\"cost\"].values()))\n",
    "    objective += sum(list(maintenance[\"loss\"].values()))\n",
    "\n",
    "    return day, FC, maintenance, objective"
   ]
  },
  {
   "cell_type": "markdown",
   "metadata": {
    "jp-MarkdownHeadingCollapsed": true,
    "tags": []
   },
   "source": [
    "### Held Karp"
   ]
  },
  {
   "cell_type": "code",
   "execution_count": 6,
   "metadata": {
    "tags": []
   },
   "outputs": [],
   "source": [
    "def held_karp(A, TotalFlights, route, last):\n",
    "\n",
    "    objective = np.inf\n",
    "    B = dict() #dummy memo containing objectives and routes\n",
    "    \n",
    "    #for TotalFlights < 3 the algorithm is the same as brute force \n",
    "    #because the elements of the set only have 1 member (home,{i},j)\n",
    "    if TotalFlights < 3:\n",
    "        for S in it.permutations(I - set(route), TotalFlights):\n",
    "                        \n",
    "            dummy = total_cost(route + S + last)\n",
    "            dummyO = dummy[-1] \n",
    "            B[S] = (dummyO, S) \n",
    "            \n",
    "            if dummyO < objective:\n",
    "                PartialRoute = S + last\n",
    "                day, FC, maintenance, objective = dummy\n",
    "            \n",
    "    else:\n",
    "        for S in it.combinations(I - set(route), TotalFlights-1):\n",
    "            for i in (I - set(route) - set(S)):\n",
    "                \n",
    "                B[tuple(sorted(S)) + (i,)] = (np.inf, S + (i,))\n",
    "                    \n",
    "                for j in it.combinations(S, TotalFlights-2):\n",
    "                    DummyRoute = A[tuple(sorted(j)) + tuple(set(S) - set(j))][1]  + (i,)\n",
    "                    \n",
    "                    dummy2 = total_cost(route + DummyRoute + last)\n",
    "                    dummy2O = dummy2[-1]\n",
    "                        \n",
    "                    if  dummy2O < B[tuple(sorted(S)) + (i,)][0] :\n",
    "                        B[tuple(sorted(S)) + (i,)] =  (dummy2O, DummyRoute) \n",
    "                \n",
    "                dummy = total_cost(route + B[tuple(sorted(S)) + (i,)][1] + last)\n",
    "                dummyO = dummy[-1] \n",
    "                        \n",
    "                if dummyO < objective :\n",
    "                    PartialRoute = B[tuple(sorted(S)) + (i,)][1] + last\n",
    "                    day, FC, maintenance, objective = dummy\n",
    "    \n",
    "    return B, PartialRoute"
   ]
  },
  {
   "cell_type": "markdown",
   "metadata": {
    "jp-MarkdownHeadingCollapsed": true,
    "tags": []
   },
   "source": [
    "### Main Program"
   ]
  },
  {
   "cell_type": "code",
   "execution_count": 7,
   "metadata": {
    "tags": []
   },
   "outputs": [],
   "source": [
    "route = (home,)\n",
    "\n",
    "TotalFlights = 2\n",
    "A = {}\n",
    "\n",
    "while set(route) != I:\n",
    "    \n",
    "    if TotalFlights >= N - len(route):\n",
    "        B, PartialRoute = held_karp(A, N - len(route), route, (home,))    \n",
    "        route = route + PartialRoute\n",
    "    \n",
    "    else :\n",
    "        B, PartialRoute = held_karp(A, TotalFlights, route, ()) \n",
    "    \n",
    "        if TotalFlights == NOF:\n",
    "            route = route + PartialRoute\n",
    "            TotalFlights = 2\n",
    "            \n",
    "        else:\n",
    "            TotalFlights += 1 \n",
    "\n",
    "    A = B  #memo containing objective and route\n",
    "\n",
    "day, FC, maintenance, objective = total_cost(route)"
   ]
  },
  {
   "cell_type": "code",
   "execution_count": 8,
   "metadata": {
    "tags": []
   },
   "outputs": [],
   "source": [
    "def output():\n",
    "    print('Total cost of flights  $%d' \n",
    "        %(FC))\n",
    "    print('Total maintenance costs $%d' \n",
    "        %(sum(list(maintenance[\"cost\"].values()))))\n",
    "    print('Total maintenance loss $%d' \n",
    "        %(sum(list(maintenance[\"loss\"].values()))))\n",
    "\n",
    "    print('Total cost $%d' \n",
    "        %(FC + sum(list(maintenance[\"cost\"].values()))))\n",
    "    print()\n",
    "    print(\"\\033[1m\" +\"Details :\" +\"\\033[0m\")\n",
    "    print(f'flight duration {int(day)} day')\n",
    "    print()\n",
    "    print('Number of The A check maintenance = %d' \n",
    "        %(maintenance[\"amount\"]['Acheck']))\n",
    "    print('Number of The B check maintenance = %d' \n",
    "        %(maintenance[\"amount\"]['Bcheck']))\n",
    "    print('Number of The C check maintenance = %d' \n",
    "        %(maintenance[\"amount\"]['Ccheck']))\n",
    "    print('Number of The D check maintenance = %d' \n",
    "        %(maintenance[\"amount\"]['Dcheck']))\n",
    "    print()\n",
    "    print('Costs of The A check maintenance = $%d' \n",
    "        %(maintenance[\"cost\"]['Acheck']))\n",
    "    print('Costs of The B check maintenance = $%d' \n",
    "        %(maintenance[\"cost\"]['Bcheck']))\n",
    "    print('Costs of The C check maintenance = $%d' \n",
    "        %(maintenance[\"cost\"]['Ccheck']))\n",
    "    print('Costs of The D check maintenance = $%d' \n",
    "        %(maintenance[\"cost\"]['Dcheck']))\n",
    "    print()\n",
    "    print('Loss of The A check maintenance = $%d' \n",
    "        %(maintenance[\"loss\"]['Acheck']))\n",
    "    print('Loss of The B check maintenance = $%d' \n",
    "        %(maintenance[\"loss\"]['Bcheck']))\n",
    "    print('Loss of The C check maintenance = $%d' \n",
    "        %(maintenance[\"loss\"]['Ccheck']))\n",
    "    print('Loss of The D check maintenance = $%d' \n",
    "        %(maintenance[\"loss\"]['Dcheck']))\n",
    "    print()\n",
    "\n",
    "    print(\"route : \")\n",
    "    for airport in route[:-1]:\n",
    "        print(f'{airport} -> ', end ='')\n",
    "       \n",
    "    print(home)\n",
    "    print()\n",
    "    print(\"Execution time : \", dt.datetime.now()-toc)\n",
    "\n",
    "def detail():\n",
    "    print('Detail: ')\n",
    "    FC = 0\n",
    "    FC_per_day = 0\n",
    "    flight_per_day = 0 \n",
    "    day = 0\n",
    "    for i in range(1,len(route)):\n",
    "        FC_per_day += C[route[i-1]][route[i]]\n",
    "        flight_per_day += 1\n",
    "    \n",
    "        if (flight_per_day > MFPD) or (FC_per_day > MFCPD):\n",
    "            FC += (FC_per_day - C[route[i-1]][route[i]])\n",
    "            day += 1\n",
    "        \n",
    "            print('num: '+str(day)+', airport visited: '+str(route[i-flight_per_day :i])+', flight costs: $'+str(FC_per_day - C[route[i-1]][route[i]]))\n",
    "            FC_per_day = C[route[i-1]][route[i]]\n",
    "            flight_per_day = 1\n",
    "        \n",
    "    FC += FC_per_day\n",
    "    day += 1\n",
    "        \n",
    "    print('num: '+str(day)+', airport visited: '+str(route[-flight_per_day-1 :])+', flight costs: $'+str(FC_per_day))\n",
    "    print()\n",
    "    print(\"Total cost of flights: $\"+str(int(FC)))"
   ]
  },
  {
   "cell_type": "markdown",
   "metadata": {},
   "source": [
    "### Output"
   ]
  },
  {
   "cell_type": "code",
   "execution_count": 9,
   "metadata": {},
   "outputs": [
    {
     "name": "stdout",
     "output_type": "stream",
     "text": [
      "Total cost of flights  $194466\n",
      "Total maintenance costs $0\n",
      "Total maintenance loss $0\n",
      "Total cost $194466\n",
      "\n",
      "\u001b[1mDetails :\u001b[0m\n",
      "flight duration 8 day\n",
      "\n",
      "Number of The A check maintenance = 0\n",
      "Number of The B check maintenance = 0\n",
      "Number of The C check maintenance = 0\n",
      "Number of The D check maintenance = 0\n",
      "\n",
      "Costs of The A check maintenance = $0\n",
      "Costs of The B check maintenance = $0\n",
      "Costs of The C check maintenance = $0\n",
      "Costs of The D check maintenance = $0\n",
      "\n",
      "Loss of The A check maintenance = $0\n",
      "Loss of The B check maintenance = $0\n",
      "Loss of The C check maintenance = $0\n",
      "Loss of The D check maintenance = $0\n",
      "\n",
      "route : \n",
      "2 -> 23 -> 5 -> 20 -> 21 -> 9 -> 17 -> 15 -> 4 -> 22 -> 16 -> 3 -> 1 -> 14 -> 10 -> 18 -> 13 -> 0 -> 8 -> 19 -> 24 -> 11 -> 12 -> 7 -> 6 -> 2\n",
      "\n",
      "Execution time :  0:00:32.075336\n"
     ]
    }
   ],
   "source": [
    "output()"
   ]
  },
  {
   "cell_type": "markdown",
   "metadata": {},
   "source": [
    "### Detail"
   ]
  },
  {
   "cell_type": "code",
   "execution_count": 10,
   "metadata": {},
   "outputs": [
    {
     "name": "stdout",
     "output_type": "stream",
     "text": [
      "Detail: \n",
      "num: 1, airport visited: (2, 23, 5, 20, 21), flight costs: $7021.081082335734\n",
      "num: 2, airport visited: (21, 9, 17, 15, 4), flight costs: $10540.721060661119\n",
      "num: 3, airport visited: (4, 22, 16, 3, 1), flight costs: $14439.182339692228\n",
      "num: 4, airport visited: (1, 14, 10, 18, 13), flight costs: $23004.284253409394\n",
      "num: 5, airport visited: (13, 0, 8, 19, 24), flight costs: $26782.110140655066\n",
      "num: 6, airport visited: (24, 11, 12), flight costs: $41121.40195419865\n",
      "num: 7, airport visited: (12, 7, 6), flight costs: $40310.510853231805\n",
      "num: 8, airport visited: (6, 2), flight costs: $31247.399297391465\n",
      "\n",
      "Total cost of flights: $194466\n"
     ]
    }
   ],
   "source": [
    "detail()"
   ]
  }
 ],
 "metadata": {
  "kernelspec": {
   "display_name": "Python 3 (ipykernel)",
   "language": "python",
   "name": "python3"
  },
  "language_info": {
   "codemirror_mode": {
    "name": "ipython",
    "version": 3
   },
   "file_extension": ".py",
   "mimetype": "text/x-python",
   "name": "python",
   "nbconvert_exporter": "python",
   "pygments_lexer": "ipython3",
   "version": "3.9.13"
  }
 },
 "nbformat": 4,
 "nbformat_minor": 4
}
