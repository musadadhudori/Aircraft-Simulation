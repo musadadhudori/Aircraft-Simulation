{
 "cells": [
  {
   "cell_type": "markdown",
   "metadata": {
    "jp-MarkdownHeadingCollapsed": true,
    "tags": []
   },
   "source": [
    "### Packages"
   ]
  },
  {
   "cell_type": "code",
   "execution_count": 1,
   "metadata": {},
   "outputs": [],
   "source": [
    "import datetime as dt\n",
    "import pandas as pd\n",
    "import numpy as np\n",
    "import numpy.random as nr\n",
    "import itertools as it\n",
    "import operator as op\n",
    "import random as rd"
   ]
  },
  {
   "cell_type": "markdown",
   "metadata": {},
   "source": [
    "### Input"
   ]
  },
  {
   "cell_type": "code",
   "execution_count": 2,
   "metadata": {},
   "outputs": [
    {
     "name": "stdin",
     "output_type": "stream",
     "text": [
      "Input number of airports 10\n"
     ]
    }
   ],
   "source": [
    "N = int(input('Input number of airports'))"
   ]
  },
  {
   "cell_type": "markdown",
   "metadata": {
    "jp-MarkdownHeadingCollapsed": true,
    "tags": []
   },
   "source": [
    "### Data"
   ]
  },
  {
   "cell_type": "code",
   "execution_count": 3,
   "metadata": {},
   "outputs": [],
   "source": [
    "toc = dt.datetime.now() #program start time\n",
    "\n",
    "nr.seed(20220606)\n",
    "rd.seed(20220606)\n",
    "\n",
    "#flight costs matrix\n",
    "C = 708 + (51124 - 708)*nr.rand(N**2).reshape(N,N)\n",
    "C -= np.diag(np.diag(C)) \n",
    "        \n",
    "interval = {}\n",
    "interval[\"Acheck\"] = nr.randint(56, 71)\n",
    "interval[\"Bcheck\"] = nr.randint(180, 241)\n",
    "interval[\"Ccheck\"] = nr.randint(540, 721)\n",
    "interval[\"Dcheck\"] = nr.randint(2160, 3601)\n",
    "        \n",
    "durations = {}\n",
    "durations[\"Acheck\"] = [1]*N\n",
    "durations[\"Bcheck\"] = nr.randint(1, 4, size = N)\n",
    "durations[\"Ccheck\"] = nr.randint(7, 15, size = N)\n",
    "durations[\"Dcheck\"] = nr.randint(21, 43, size = N)\n",
    "        \n",
    "costs = {}\n",
    "costs[\"Acheck\"] = (310 + (820 - 310)*nr.rand(N))\n",
    "costs[\"Bcheck\"] = (4960 + (7380 - 4960)*nr.rand(N))\n",
    "costs[\"Ccheck\"] = (186000 + (246000 - 186000)*nr.rand(N))\n",
    "costs[\"Dcheck\"] = (930000 + (2050000 - 930000)*nr.rand(N))\n",
    "\n",
    "MFPD = 4 #maximum flights per day\n",
    "home = nr.randint(N) #initial airport\n",
    "I = set(np.arange(N)) #airport set\n",
    "MFCPD = C.max() #maximum flight costs per day\n",
    "MFC = (C + np.diag([np.inf]*N)).min() #minimum flight costs\n",
    "MDP = (MFCPD + MFPD*MFC)/2 #median daily profit"
   ]
  },
  {
   "cell_type": "markdown",
   "metadata": {
    "jp-MarkdownHeadingCollapsed": true,
    "tags": []
   },
   "source": [
    "### Flight Simulation"
   ]
  },
  {
   "cell_type": "code",
   "execution_count": 4,
   "metadata": {
    "tags": []
   },
   "outputs": [],
   "source": [
    "def maintenance_check(day, maintenance, airport):\n",
    "    for check in maintenance[\"amount\"].keys():\n",
    "        if day >= (maintenance[\"amount\"][check]+1)*interval[check] :\n",
    "            \n",
    "            maintenance[\"amount\"][check] += 1\n",
    "            day += durations[check][airport]\n",
    "            \n",
    "            maintenance[\"cost\"][check] += costs[check][airport]\n",
    "            maintenance[\"loss\"][check] += durations[check][airport]*MDP\n",
    "            \n",
    "    return day, maintenance"
   ]
  },
  {
   "cell_type": "code",
   "execution_count": 5,
   "metadata": {
    "tags": []
   },
   "outputs": [],
   "source": [
    "def total_cost(route):\n",
    "    day = 0 # aircraft age\n",
    "        \n",
    "    maintenance = {}\n",
    "    maintenance[\"loss\"]     = {\"Acheck\" : 0, \"Bcheck\" : 0, \"Ccheck\" : 0, \"Dcheck\" : 0}\n",
    "    maintenance[\"amount\"]   = {\"Acheck\" : 0, \"Bcheck\" : 0, \"Ccheck\" : 0, \"Dcheck\" : 0}\n",
    "    maintenance[\"cost\"]     = {\"Acheck\" : 0, \"Bcheck\" : 0, \"Ccheck\" : 0, \"Dcheck\" : 0}\n",
    "        \n",
    "    FC = 0 #flight cost\n",
    "    \n",
    "    FPD = 0 #flights per day\n",
    "    FCPD = 0 #flight costs per day\n",
    "        \n",
    "    for i in range(1,len(route)): \n",
    "        FCPD += C[route[i-1]][route[i]]\n",
    "        FPD += 1\n",
    "        \n",
    "        if (FPD > MFPD) or (FCPD > MFCPD):\n",
    "            FC += (FCPD - C[route[i-1]][route[i]])\n",
    "            day += 1\n",
    "            \n",
    "            FPD = 1\n",
    "            FCPD = C[route[i-1]][route[i]]\n",
    "            day, maintenance = maintenance_check(day, maintenance, route[i-1])\n",
    "            \n",
    "    FC += FCPD\n",
    "    if route[-1] == home:\n",
    "        day += 1\n",
    "        day, maintenance = maintenance_check(day, maintenance, route[-1])\n",
    "    \n",
    "    objective = FC + sum(list(maintenance[\"cost\"].values()))\n",
    "    objective += sum(list(maintenance[\"loss\"].values()))\n",
    "\n",
    "    return day, FC, maintenance, objective"
   ]
  },
  {
   "cell_type": "markdown",
   "metadata": {
    "jp-MarkdownHeadingCollapsed": true,
    "tags": []
   },
   "source": [
    "### Main Program"
   ]
  },
  {
   "cell_type": "code",
   "execution_count": 6,
   "metadata": {},
   "outputs": [],
   "source": [
    "objective = np.inf\n",
    "\n",
    "for i in it.permutations (I - set((home,))):\n",
    "    dummy = total_cost((home,) + i + (home,))\n",
    "    dummy_objective = dummy[-1]\n",
    "    \n",
    "    if dummy_objective < objective :\n",
    "        route = (home,) + i + (home,)\n",
    "        day, FC, maintenance, objective = dummy\n"
   ]
  },
  {
   "cell_type": "code",
   "execution_count": 7,
   "metadata": {},
   "outputs": [],
   "source": [
    "def output():\n",
    "    print('Total cost of flights  $%d' \n",
    "        %(FC))\n",
    "    print('Total maintenance costs $%d' \n",
    "        %(sum(list(maintenance[\"cost\"].values()))))\n",
    "    print('Total maintenance loss $%d' \n",
    "        %(sum(list(maintenance[\"loss\"].values()))))\n",
    "\n",
    "    print('Total cost $%d' \n",
    "        %(FC + sum(list(maintenance[\"cost\"].values()))))\n",
    "    print()\n",
    "    print(\"\\033[1m\" +\"Details :\" +\"\\033[0m\")\n",
    "    print(f'flight duration {int(day)} day')\n",
    "    print()\n",
    "    print('Number of The A check maintenance = %d' \n",
    "        %(maintenance[\"amount\"]['Acheck']))\n",
    "    print('Number of The B check maintenance = %d' \n",
    "        %(maintenance[\"amount\"]['Bcheck']))\n",
    "    print('Number of The C check maintenance = %d' \n",
    "        %(maintenance[\"amount\"]['Ccheck']))\n",
    "    print('Number of The D check maintenance = %d' \n",
    "        %(maintenance[\"amount\"]['Dcheck']))\n",
    "    print()\n",
    "    print('Costs of The A check maintenance = $%d' \n",
    "        %(maintenance[\"cost\"]['Acheck']))\n",
    "    print('Costs of The B check maintenance = $%d' \n",
    "        %(maintenance[\"cost\"]['Bcheck']))\n",
    "    print('Costs of The C check maintenance = $%d' \n",
    "        %(maintenance[\"cost\"]['Ccheck']))\n",
    "    print('Costs of The D check maintenance = $%d' \n",
    "        %(maintenance[\"cost\"]['Dcheck']))\n",
    "    print()\n",
    "    print('Loss of The A check maintenance = $%d' \n",
    "        %(maintenance[\"loss\"]['Acheck']))\n",
    "    print('Loss of The B check maintenance = $%d' \n",
    "        %(maintenance[\"loss\"]['Bcheck']))\n",
    "    print('Loss of The C check maintenance = $%d' \n",
    "        %(maintenance[\"loss\"]['Ccheck']))\n",
    "    print('Loss of The D check maintenance = $%d' \n",
    "        %(maintenance[\"loss\"]['Dcheck']))\n",
    "    print()\n",
    "\n",
    "    print(\"route : \")\n",
    "    for airport in route[:-1]:\n",
    "        print(f'{airport} -> ', end ='')\n",
    "       \n",
    "    print(home)\n",
    "    print()\n",
    "    print(\"Execution time : \", dt.datetime.now()-toc)\n",
    "\n",
    "def detail():\n",
    "    print('Detail: ')\n",
    "    FC = 0\n",
    "    FC_per_day = 0\n",
    "    flight_per_day = 0 \n",
    "    day = 0\n",
    "    for i in range(1,len(route)):\n",
    "        FC_per_day += C[route[i-1]][route[i]]\n",
    "        flight_per_day += 1\n",
    "    \n",
    "        if (flight_per_day > MFPD) or (FC_per_day > MFCPD):\n",
    "            FC += (FC_per_day - C[route[i-1]][route[i]])\n",
    "            day += 1\n",
    "        \n",
    "            print('day: '+str(day)+', airport visited: '+str(route[i-flight_per_day :i])+', flight costs: $'+str(FC_per_day - C[route[i-1]][route[i]]))\n",
    "            FC_per_day = C[route[i-1]][route[i]]\n",
    "            flight_per_day = 1\n",
    "        \n",
    "    FC += FC_per_day\n",
    "    day += 1\n",
    "        \n",
    "    print('day: '+str(day)+', airport visited: '+str(route[-flight_per_day :])+', flight costs: $'+str(FC_per_day))\n",
    "    print()\n",
    "    print(\"Total cost of flights: $\"+str(int(FC)))"
   ]
  },
  {
   "cell_type": "markdown",
   "metadata": {},
   "source": [
    "### Output"
   ]
  },
  {
   "cell_type": "code",
   "execution_count": 8,
   "metadata": {
    "tags": []
   },
   "outputs": [
    {
     "name": "stdout",
     "output_type": "stream",
     "text": [
      "Total cost of flights  $63223\n",
      "Total maintenance costs $0\n",
      "Total maintenance loss $0\n",
      "Total cost $63223\n",
      "\n",
      "\u001b[1mDetails :\u001b[0m\n",
      "flight duration 3 day\n",
      "\n",
      "Number of The A check maintenance = 0\n",
      "Number of The B check maintenance = 0\n",
      "Number of The C check maintenance = 0\n",
      "Number of The D check maintenance = 0\n",
      "\n",
      "Costs of The A check maintenance = $0\n",
      "Costs of The B check maintenance = $0\n",
      "Costs of The C check maintenance = $0\n",
      "Costs of The D check maintenance = $0\n",
      "\n",
      "Loss of The A check maintenance = $0\n",
      "Loss of The B check maintenance = $0\n",
      "Loss of The C check maintenance = $0\n",
      "Loss of The D check maintenance = $0\n",
      "\n",
      "route : \n",
      "3 -> 9 -> 0 -> 5 -> 4 -> 1 -> 2 -> 6 -> 8 -> 7 -> 3\n",
      "\n",
      "Execution time :  0:00:10.370219\n"
     ]
    }
   ],
   "source": [
    "output()"
   ]
  },
  {
   "cell_type": "markdown",
   "metadata": {},
   "source": [
    "### Detail"
   ]
  },
  {
   "cell_type": "code",
   "execution_count": 9,
   "metadata": {},
   "outputs": [
    {
     "name": "stdout",
     "output_type": "stream",
     "text": [
      "Detail: \n",
      "day: 1, airport visited: (3, 9, 0, 5, 4), flight costs: $11552.077170089993\n",
      "day: 2, airport visited: (4, 1, 2, 6, 8), flight costs: $42254.27911183165\n",
      "day: 3, airport visited: (7, 3), flight costs: $9416.79644926207\n",
      "\n",
      "Total cost of flights: $63223\n"
     ]
    }
   ],
   "source": [
    "detail()"
   ]
  }
 ],
 "metadata": {
  "kernelspec": {
   "display_name": "Python 3 (ipykernel)",
   "language": "python",
   "name": "python3"
  },
  "language_info": {
   "codemirror_mode": {
    "name": "ipython",
    "version": 3
   },
   "file_extension": ".py",
   "mimetype": "text/x-python",
   "name": "python",
   "nbconvert_exporter": "python",
   "pygments_lexer": "ipython3",
   "version": "3.9.13"
  }
 },
 "nbformat": 4,
 "nbformat_minor": 4
}
