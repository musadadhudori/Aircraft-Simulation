{
 "cells": [
  {
   "cell_type": "markdown",
   "metadata": {
    "tags": []
   },
   "source": [
    "### Packages"
   ]
  },
  {
   "cell_type": "code",
   "execution_count": 1,
   "metadata": {},
   "outputs": [],
   "source": [
    "import datetime as dt\n",
    "import pandas as pd\n",
    "import numpy as np\n",
    "import numpy.random as nr\n",
    "import itertools as it\n",
    "import operator as op\n",
    "import random as rd"
   ]
  },
  {
   "cell_type": "markdown",
   "metadata": {},
   "source": [
    "### Input"
   ]
  },
  {
   "cell_type": "code",
   "execution_count": 2,
   "metadata": {},
   "outputs": [
    {
     "name": "stdin",
     "output_type": "stream",
     "text": [
      "Input the number of airports 100\n",
      "Input the number of flights 3\n"
     ]
    }
   ],
   "source": [
    "N = int(input('Input the number of airports'))\n",
    "NOF = int(input('Input the number of flights')) "
   ]
  },
  {
   "cell_type": "markdown",
   "metadata": {
    "jp-MarkdownHeadingCollapsed": true,
    "tags": []
   },
   "source": [
    "### Data"
   ]
  },
  {
   "cell_type": "code",
   "execution_count": 3,
   "metadata": {},
   "outputs": [],
   "source": [
    "toc = dt.datetime.now() #program start time\n",
    "\n",
    "nr.seed(20220606)\n",
    "rd.seed(20220606)\n",
    "\n",
    "#flight costs matrix\n",
    "C = 708 + (51124 - 708)*nr.rand(N**2).reshape(N,N)\n",
    "C -= np.diag(np.diag(C)) \n",
    "        \n",
    "interval = {}\n",
    "interval[\"Acheck\"] = nr.randint(56, 71)\n",
    "interval[\"Bcheck\"] = nr.randint(180, 241)\n",
    "interval[\"Ccheck\"] = nr.randint(540, 721)\n",
    "interval[\"Dcheck\"] = nr.randint(2160, 3601)\n",
    "        \n",
    "durations = {}\n",
    "durations[\"Acheck\"] = [1]*N\n",
    "durations[\"Bcheck\"] = nr.randint(1, 4, size = N)\n",
    "durations[\"Ccheck\"] = nr.randint(7, 15, size = N)\n",
    "durations[\"Dcheck\"] = nr.randint(21, 43, size = N)\n",
    "        \n",
    "costs = {}\n",
    "costs[\"Acheck\"] = (310 + (820 - 310)*nr.rand(N))\n",
    "costs[\"Bcheck\"] = (4960 + (7380 - 4960)*nr.rand(N))\n",
    "costs[\"Ccheck\"] = (186000 + (246000 - 186000)*nr.rand(N))\n",
    "costs[\"Dcheck\"] = (930000 + (2050000 - 930000)*nr.rand(N))\n",
    "\n",
    "MFPD = 4 #maximum flights per day\n",
    "home = nr.randint(N) #initial airport\n",
    "I = set(np.arange(N)) #airport set\n",
    "MFCPD = C.max() #maximum flight costs per day\n",
    "MFC = (C + np.diag([np.inf]*N)).min() #minimum flight costs\n",
    "MDP = (MFCPD + MFPD*MFC)/2 #median daily profit"
   ]
  },
  {
   "cell_type": "markdown",
   "metadata": {
    "jp-MarkdownHeadingCollapsed": true,
    "tags": []
   },
   "source": [
    "### Flight Simulation"
   ]
  },
  {
   "cell_type": "code",
   "execution_count": 4,
   "metadata": {
    "tags": []
   },
   "outputs": [],
   "source": [
    "def maintenance_check(day, maintenance, airport):\n",
    "    for check in maintenance[\"amount\"].keys():\n",
    "        if day >= (maintenance[\"amount\"][check]+1)*interval[check] :\n",
    "            \n",
    "            maintenance[\"amount\"][check] += 1\n",
    "            day += durations[check][airport]\n",
    "            \n",
    "            maintenance[\"cost\"][check] += costs[check][airport]\n",
    "            maintenance[\"loss\"][check] += durations[check][airport]*MDP\n",
    "            \n",
    "    return day, maintenance"
   ]
  },
  {
   "cell_type": "code",
   "execution_count": 5,
   "metadata": {
    "tags": []
   },
   "outputs": [],
   "source": [
    "def total_cost(route):\n",
    "    day = 0 # aircraft age\n",
    "        \n",
    "    maintenance = {}\n",
    "    maintenance[\"loss\"]     = {\"Acheck\" : 0, \"Bcheck\" : 0, \"Ccheck\" : 0, \"Dcheck\" : 0}\n",
    "    maintenance[\"amount\"]   = {\"Acheck\" : 0, \"Bcheck\" : 0, \"Ccheck\" : 0, \"Dcheck\" : 0}\n",
    "    maintenance[\"cost\"]     = {\"Acheck\" : 0, \"Bcheck\" : 0, \"Ccheck\" : 0, \"Dcheck\" : 0}\n",
    "        \n",
    "    FC = 0 #flight cost\n",
    "    \n",
    "    FPD = 0 #flights per day\n",
    "    FCPD = 0 #flight costs per day\n",
    "        \n",
    "    for i in range(1,len(route)): \n",
    "        FCPD += C[route[i-1]][route[i]]\n",
    "        FPD += 1\n",
    "        \n",
    "        if (FPD > MFPD) or (FCPD > MFCPD):\n",
    "            FC += (FCPD - C[route[i-1]][route[i]])\n",
    "            day += 1\n",
    "            \n",
    "            FPD = 1\n",
    "            FCPD = C[route[i-1]][route[i]]\n",
    "            day, maintenance = maintenance_check(day, maintenance, route[i-1])\n",
    "            \n",
    "    FC += FCPD\n",
    "    if route[-1] == home:\n",
    "        day += 1\n",
    "        day, maintenance = maintenance_check(day, maintenance, route[-1])\n",
    "    \n",
    "    objective = FC + sum(list(maintenance[\"cost\"].values()))\n",
    "    objective += sum(list(maintenance[\"loss\"].values()))\n",
    "\n",
    "    return day, FC, maintenance, objective"
   ]
  },
  {
   "cell_type": "markdown",
   "metadata": {
    "jp-MarkdownHeadingCollapsed": true,
    "tags": []
   },
   "source": [
    "### Main Program"
   ]
  },
  {
   "cell_type": "code",
   "execution_count": 6,
   "metadata": {
    "tags": []
   },
   "outputs": [],
   "source": [
    "route = (home,)\n",
    "\n",
    "while set(route) != I:\n",
    "    \n",
    "    if NOF >= N - len(route):\n",
    "        objective = np.inf\n",
    "        \n",
    "        for S in it.permutations(I - set(route), (N - len(route))):    \n",
    "            dummy = total_cost(route + S + (home,))\n",
    "            dummyO = dummy[-1]\n",
    "\n",
    "            if dummyO < objective:\n",
    "                PartialRoute = route + S + (home,)\n",
    "                day, FC, maintenance, objective = dummy\n",
    "                \n",
    "        route = PartialRoute\n",
    "    \n",
    "    else: \n",
    "        objective = np.inf\n",
    "        for S in it.permutations(I - set(route), NOF):    \n",
    "            dummy = total_cost(route + S)\n",
    "            dummyO = dummy [-1]\n",
    "        \n",
    "            if dummyO < objective:\n",
    "                objective = dummyO\n",
    "                PartialRoute = S\n",
    "         \n",
    "        route = route + PartialRoute"
   ]
  },
  {
   "cell_type": "code",
   "execution_count": 7,
   "metadata": {
    "tags": []
   },
   "outputs": [],
   "source": [
    "def output():\n",
    "    print('Total cost of flights  $%d' \n",
    "        %(FC))\n",
    "    print('Total maintenance costs $%d' \n",
    "        %(sum(list(maintenance[\"cost\"].values()))))\n",
    "    print('Total maintenance loss $%d' \n",
    "        %(sum(list(maintenance[\"loss\"].values()))))\n",
    "\n",
    "    print('Total cost $%d' \n",
    "        %(FC + sum(list(maintenance[\"cost\"].values()))))\n",
    "    print()\n",
    "    print(\"\\033[1m\" +\"Details :\" +\"\\033[0m\")\n",
    "    print(f'flight duration {int(day)} day')\n",
    "    print()\n",
    "    print('Number of The A check maintenance = %d' \n",
    "        %(maintenance[\"amount\"]['Acheck']))\n",
    "    print('Number of The B check maintenance = %d' \n",
    "        %(maintenance[\"amount\"]['Bcheck']))\n",
    "    print('Number of The C check maintenance = %d' \n",
    "        %(maintenance[\"amount\"]['Ccheck']))\n",
    "    print('Number of The D check maintenance = %d' \n",
    "        %(maintenance[\"amount\"]['Dcheck']))\n",
    "    print()\n",
    "    print('Costs of The A check maintenance = $%d' \n",
    "        %(maintenance[\"cost\"]['Acheck']))\n",
    "    print('Costs of The B check maintenance = $%d' \n",
    "        %(maintenance[\"cost\"]['Bcheck']))\n",
    "    print('Costs of The C check maintenance = $%d' \n",
    "        %(maintenance[\"cost\"]['Ccheck']))\n",
    "    print('Costs of The D check maintenance = $%d' \n",
    "        %(maintenance[\"cost\"]['Dcheck']))\n",
    "    print()\n",
    "    print('Loss of The A check maintenance = $%d' \n",
    "        %(maintenance[\"loss\"]['Acheck']))\n",
    "    print('Loss of The B check maintenance = $%d' \n",
    "        %(maintenance[\"loss\"]['Bcheck']))\n",
    "    print('Loss of The C check maintenance = $%d' \n",
    "        %(maintenance[\"loss\"]['Ccheck']))\n",
    "    print('Loss of The D check maintenance = $%d' \n",
    "        %(maintenance[\"loss\"]['Dcheck']))\n",
    "    print()\n",
    "\n",
    "    print(\"route : \")\n",
    "    for airport in route[:-1]:\n",
    "        print(f'{airport} -> ', end ='')\n",
    "       \n",
    "    print(home)\n",
    "    print()\n",
    "    print(\"Execution time : \", dt.datetime.now()-toc)\n",
    "\n",
    "def detail():\n",
    "    print('Detail: ')\n",
    "    FC = 0\n",
    "    FC_per_day = 0\n",
    "    flight_per_day = 0 \n",
    "    day = 0\n",
    "    for i in range(1,len(route)):\n",
    "        FC_per_day += C[route[i-1]][route[i]]\n",
    "        flight_per_day += 1\n",
    "    \n",
    "        if (flight_per_day > MFPD) or (FC_per_day > MFCPD):\n",
    "            FC += (FC_per_day - C[route[i-1]][route[i]])\n",
    "            day += 1\n",
    "        \n",
    "            print('num: '+str(day)+', airport visited: '+str(route[i-flight_per_day :i])+', flight costs: $'+str(FC_per_day - C[route[i-1]][route[i]]))\n",
    "            FC_per_day = C[route[i-1]][route[i]]\n",
    "            flight_per_day = 1\n",
    "        \n",
    "    FC += FC_per_day\n",
    "    day += 1\n",
    "        \n",
    "    print('num: '+str(day)+', airport visited: '+str(route[-flight_per_day-1 :])+', flight costs: $'+str(FC_per_day))\n",
    "    print()\n",
    "    print(\"Total cost of flights: $\"+str(int(FC)))"
   ]
  },
  {
   "cell_type": "markdown",
   "metadata": {},
   "source": [
    "### Output"
   ]
  },
  {
   "cell_type": "code",
   "execution_count": 8,
   "metadata": {},
   "outputs": [
    {
     "name": "stdout",
     "output_type": "stream",
     "text": [
      "Total cost of flights  $340400\n",
      "Total maintenance costs $0\n",
      "Total maintenance loss $0\n",
      "Total cost $340400\n",
      "\n",
      "\u001b[1mDetails :\u001b[0m\n",
      "flight duration 27 day\n",
      "\n",
      "Number of The A check maintenance = 0\n",
      "Number of The B check maintenance = 0\n",
      "Number of The C check maintenance = 0\n",
      "Number of The D check maintenance = 0\n",
      "\n",
      "Costs of The A check maintenance = $0\n",
      "Costs of The B check maintenance = $0\n",
      "Costs of The C check maintenance = $0\n",
      "Costs of The D check maintenance = $0\n",
      "\n",
      "Loss of The A check maintenance = $0\n",
      "Loss of The B check maintenance = $0\n",
      "Loss of The C check maintenance = $0\n",
      "Loss of The D check maintenance = $0\n",
      "\n",
      "route : \n",
      "80 -> 96 -> 46 -> 83 -> 1 -> 71 -> 74 -> 27 -> 51 -> 89 -> 40 -> 82 -> 37 -> 15 -> 41 -> 91 -> 49 -> 22 -> 78 -> 63 -> 99 -> 35 -> 20 -> 54 -> 55 -> 0 -> 90 -> 33 -> 60 -> 19 -> 6 -> 66 -> 86 -> 92 -> 10 -> 44 -> 68 -> 75 -> 57 -> 24 -> 48 -> 87 -> 25 -> 29 -> 69 -> 31 -> 11 -> 58 -> 85 -> 72 -> 77 -> 30 -> 73 -> 70 -> 28 -> 23 -> 17 -> 45 -> 59 -> 88 -> 61 -> 62 -> 50 -> 14 -> 3 -> 98 -> 4 -> 2 -> 97 -> 93 -> 13 -> 56 -> 16 -> 94 -> 47 -> 39 -> 65 -> 84 -> 7 -> 52 -> 79 -> 12 -> 8 -> 76 -> 42 -> 5 -> 34 -> 38 -> 32 -> 9 -> 36 -> 67 -> 18 -> 53 -> 81 -> 64 -> 26 -> 21 -> 43 -> 95 -> 80\n",
      "\n",
      "Execution time :  0:05:08.863328\n"
     ]
    }
   ],
   "source": [
    "output()"
   ]
  },
  {
   "cell_type": "markdown",
   "metadata": {},
   "source": [
    "### Detail"
   ]
  },
  {
   "cell_type": "code",
   "execution_count": 9,
   "metadata": {
    "tags": []
   },
   "outputs": [
    {
     "name": "stdout",
     "output_type": "stream",
     "text": [
      "Detail: \n",
      "num: 1, airport visited: (80, 96, 46, 83, 1), flight costs: $5776.551391019073\n",
      "num: 2, airport visited: (1, 71, 74, 27, 51), flight costs: $5916.438192239969\n",
      "num: 3, airport visited: (51, 89, 40, 82, 37), flight costs: $3314.717823762535\n",
      "num: 4, airport visited: (37, 15, 41, 91, 49), flight costs: $6558.230849184469\n",
      "num: 5, airport visited: (49, 22, 78, 63, 99), flight costs: $4985.3400203486835\n",
      "num: 6, airport visited: (99, 35, 20, 54, 55), flight costs: $4823.927389791434\n",
      "num: 7, airport visited: (55, 0, 90, 33, 60), flight costs: $5252.123184856441\n",
      "num: 8, airport visited: (60, 19, 6, 66, 86), flight costs: $7399.18381406242\n",
      "num: 9, airport visited: (86, 92, 10, 44, 68), flight costs: $3953.7328211708286\n",
      "num: 10, airport visited: (68, 75, 57, 24, 48), flight costs: $7350.560685427386\n",
      "num: 11, airport visited: (48, 87, 25, 29, 69), flight costs: $6029.714707665276\n",
      "num: 12, airport visited: (69, 31, 11, 58, 85), flight costs: $5205.805369219606\n",
      "num: 13, airport visited: (85, 72, 77, 30, 73), flight costs: $6273.451115122018\n",
      "num: 14, airport visited: (73, 70, 28, 23, 17), flight costs: $6694.4683556298305\n",
      "num: 15, airport visited: (17, 45, 59, 88, 61), flight costs: $6994.596020775318\n",
      "num: 16, airport visited: (61, 62, 50, 14, 3), flight costs: $8553.828666097885\n",
      "num: 17, airport visited: (3, 98, 4, 2, 97), flight costs: $11603.641130667998\n",
      "num: 18, airport visited: (97, 93, 13, 56, 16), flight costs: $8604.218621738632\n",
      "num: 19, airport visited: (16, 94, 47, 39, 65), flight costs: $11985.102353855389\n",
      "num: 20, airport visited: (65, 84, 7, 52, 79), flight costs: $6316.935968109128\n",
      "num: 21, airport visited: (79, 12, 8, 76, 42), flight costs: $21323.29787317\n",
      "num: 22, airport visited: (42, 5, 34, 38, 32), flight costs: $12496.672688773862\n",
      "num: 23, airport visited: (32, 9, 36, 67, 18), flight costs: $17791.26819666751\n",
      "num: 24, airport visited: (18, 53, 81, 64, 26), flight costs: $41748.256186240236\n",
      "num: 25, airport visited: (26, 21, 43), flight costs: $45863.12513175003\n",
      "num: 26, airport visited: (43, 95), flight costs: $33145.57322992575\n",
      "num: 27, airport visited: (95, 80), flight costs: $34439.574471978645\n",
      "\n",
      "Total cost of flights: $340400\n"
     ]
    }
   ],
   "source": [
    "detail()"
   ]
  }
 ],
 "metadata": {
  "kernelspec": {
   "display_name": "Python 3 (ipykernel)",
   "language": "python",
   "name": "python3"
  },
  "language_info": {
   "codemirror_mode": {
    "name": "ipython",
    "version": 3
   },
   "file_extension": ".py",
   "mimetype": "text/x-python",
   "name": "python",
   "nbconvert_exporter": "python",
   "pygments_lexer": "ipython3",
   "version": "3.9.13"
  }
 },
 "nbformat": 4,
 "nbformat_minor": 4
}
